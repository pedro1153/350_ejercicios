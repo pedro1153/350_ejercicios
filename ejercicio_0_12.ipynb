{
  "nbformat": 4,
  "nbformat_minor": 0,
  "metadata": {
    "colab": {
      "provenance": [],
      "authorship_tag": "ABX9TyMpG6FOGATQrOxfclXdqC0D",
      "include_colab_link": true
    },
    "kernelspec": {
      "name": "python3",
      "display_name": "Python 3"
    },
    "language_info": {
      "name": "python"
    }
  },
  "cells": [
    {
      "cell_type": "markdown",
      "metadata": {
        "id": "view-in-github",
        "colab_type": "text"
      },
      "source": [
        "<a href=\"https://colab.research.google.com/github/pedro1153/350_ejercicios/blob/main/ejercicio_0_12.ipynb\" target=\"_parent\"><img src=\"https://colab.research.google.com/assets/colab-badge.svg\" alt=\"Open In Colab\"/></a>"
      ]
    },
    {
      "cell_type": "code",
      "execution_count": 10,
      "metadata": {
        "colab": {
          "base_uri": "https://localhost:8080/"
        },
        "id": "qlNIkQ43NzGj",
        "outputId": "a2e9dd09-3553-45a8-a741-53b66628a3c4"
      },
      "outputs": [
        {
          "output_type": "stream",
          "name": "stdout",
          "text": [
            "sys.version_info(major=3, minor=10, micro=11, releaselevel='final', serial=0)\n",
            "3.10.11\n"
          ]
        }
      ],
      "source": [
        "import sys\n",
        "print(sys.version_info)\n",
        "import sys\n",
        "print(sys.version.split()[0])"
      ]
    },
    {
      "cell_type": "code",
      "source": [
        "print('Learn Python!')"
      ],
      "metadata": {
        "colab": {
          "base_uri": "https://localhost:8080/"
        },
        "id": "m9s2G-CPYsF7",
        "outputId": "1f52c7ca-b240-4b99-c694-537143b1dbf3"
      },
      "execution_count": 6,
      "outputs": [
        {
          "output_type": "stream",
          "name": "stdout",
          "text": [
            "Learn Python!\n"
          ]
        }
      ]
    },
    {
      "cell_type": "code",
      "source": [
        "print('I am 20 years old.')\n",
        "age = 20\n",
        "print(f'I am {age} years old.')"
      ],
      "metadata": {
        "colab": {
          "base_uri": "https://localhost:8080/"
        },
        "id": "joQ3EOIxZcd-",
        "outputId": "9693d904-f8af-43a8-cdc3-f10061c853d3"
      },
      "execution_count": 9,
      "outputs": [
        {
          "output_type": "stream",
          "name": "stdout",
          "text": [
            "I am 20 years old.\n",
            "I am 20 years old.\n"
          ]
        }
      ]
    },
    {
      "cell_type": "code",
      "source": [
        "var01 = 'Python'\n",
        "var02 = '3.8'\n",
        "print(f'I am learning {var01} version {var02}')"
      ],
      "metadata": {
        "colab": {
          "base_uri": "https://localhost:8080/"
        },
        "id": "hUpWVlb2aOPz",
        "outputId": "7eb9e56c-9dd8-41de-d8b3-a66fdb314e79"
      },
      "execution_count": 11,
      "outputs": [
        {
          "output_type": "stream",
          "name": "stdout",
          "text": [
            "I am learning Python version 3.8\n"
          ]
        }
      ]
    },
    {
      "cell_type": "code",
      "source": [
        "price = 199.99\n",
        "print('This costs', price)\n",
        "price = 69.99\n",
        "print(f'This costs {price}')"
      ],
      "metadata": {
        "id": "8YirRnXxVmlF",
        "colab": {
          "base_uri": "https://localhost:8080/"
        },
        "outputId": "67ded403-c0e3-4585-c8f7-033a7f7d0a9b"
      },
      "execution_count": 13,
      "outputs": [
        {
          "output_type": "stream",
          "name": "stdout",
          "text": [
            "This costs 199.99\n",
            "This costs 69.99\n"
          ]
        }
      ]
    },
    {
      "cell_type": "code",
      "source": [
        "price = 34.99\n",
        "weight = 20\n",
        "print(f'Price: {price}. Weight: {weight}')"
      ],
      "metadata": {
        "colab": {
          "base_uri": "https://localhost:8080/"
        },
        "id": "oOSR52iMaUWN",
        "outputId": "3290d823-a47d-4a22-b107-898697af45a5"
      },
      "execution_count": 16,
      "outputs": [
        {
          "output_type": "stream",
          "name": "stdout",
          "text": [
            "Price: 34.99. Weight: 20\n"
          ]
        }
      ]
    },
    {
      "cell_type": "code",
      "source": [
        "pi = 3.141596\n",
        "print(f'El valor de pi {pi} con dos decimales es {pi:.2f}')"
      ],
      "metadata": {
        "colab": {
          "base_uri": "https://localhost:8080/"
        },
        "id": "P8KodsRHccaA",
        "outputId": "ef26580b-f8d2-4917-a37c-6d679fbc1452"
      },
      "execution_count": 20,
      "outputs": [
        {
          "output_type": "stream",
          "name": "stdout",
          "text": [
            "El valor de pi 3.141596 con dos decimales es 3.14\n"
          ]
        }
      ]
    },
    {
      "cell_type": "code",
      "source": [
        "lin01 ='---------------------------------'\n",
        "lin02 ='---------------------------------'\n",
        "ver = 'version 1.0.1'\n",
        "print(f'{lin01}\\n{ver}\\n{lin02}')\n",
        "print('-' * 40)\n",
        "print('VERSION: 1.0.1')\n",
        "print('-' * 40)"
      ],
      "metadata": {
        "colab": {
          "base_uri": "https://localhost:8080/"
        },
        "id": "QbAqq4nNdhbh",
        "outputId": "24bffafd-fa5a-4db7-ad1e-33d646975d2e"
      },
      "execution_count": 27,
      "outputs": [
        {
          "output_type": "stream",
          "name": "stdout",
          "text": [
            "---------------------------------\n",
            "version 1.0.1\n",
            "---------------------------------\n",
            "----------------------------------------\n",
            "VERSION: 1.0.1\n",
            "----------------------------------------\n"
          ]
        }
      ]
    },
    {
      "cell_type": "code",
      "source": [
        "author= 'johnsmith@sample.com'\n",
        "date= '01-01-2021'\n",
        "print ('=' * 40)\n",
        "print(f'author:{author}\\ndate:{date}')\n",
        "print ('=' * 40)\n",
        "print('=' * 40)\n",
        "print('author: johnsmith@sample.com')\n",
        "print('date: 01-01-2021')\n",
        "print('=' * 40)"
      ],
      "metadata": {
        "colab": {
          "base_uri": "https://localhost:8080/"
        },
        "id": "MhUUWgLbewDf",
        "outputId": "2289df67-ad58-478a-c066-65ce0cde8749"
      },
      "execution_count": 30,
      "outputs": [
        {
          "output_type": "stream",
          "name": "stdout",
          "text": [
            "========================================\n",
            "author:johnsmith@sample.com\n",
            "date:01-01-2021\n",
            "========================================\n",
            "========================================\n",
            "author: johnsmith@sample.com\n",
            "date: 01-01-2021\n",
            "========================================\n"
          ]
        }
      ]
    },
    {
      "cell_type": "code",
      "source": [
        "print('verano', 'tiempo', 'vacaciones', sep='#')"
      ],
      "metadata": {
        "colab": {
          "base_uri": "https://localhost:8080/"
        },
        "id": "DRqoOtY3gcvY",
        "outputId": "62a19a24-d981-4805-b27f-cc7c5c1f05a1"
      },
      "execution_count": 32,
      "outputs": [
        {
          "output_type": "stream",
          "name": "stdout",
          "text": [
            "verano#tiempo#vacaciones\n"
          ]
        }
      ]
    },
    {
      "cell_type": "code",
      "source": [
        "pi = 3.141596\n",
        "radius = 5\n",
        "area = pi * radius ** 2\n",
        "print(area)\n",
        "print(f'Area: {area:.1f}')"
      ],
      "metadata": {
        "colab": {
          "base_uri": "https://localhost:8080/"
        },
        "id": "2H7PPUkGgmSq",
        "outputId": "2817d0c2-0c79-42dd-957e-6e12d286c44b"
      },
      "execution_count": 45,
      "outputs": [
        {
          "output_type": "stream",
          "name": "stdout",
          "text": [
            "78.53989999999999\n",
            "Area: 78.5\n"
          ]
        }
      ]
    },
    {
      "cell_type": "code",
      "source": [
        "val = 10000\n",
        "tae = .03\n",
        "tiempo = 5\n",
        "calculo = val* (1+tae)**5\n",
        "# fv = pv * (1 + r) ** n\n",
        "print(f'El valor futuro de la inversion es: {calculo:.1f}')"
      ],
      "metadata": {
        "colab": {
          "base_uri": "https://localhost:8080/"
        },
        "id": "_qkXVe0KhcRZ",
        "outputId": "7c9b06e7-285f-4756-bee3-9c21d98bf251"
      },
      "execution_count": 57,
      "outputs": [
        {
          "output_type": "stream",
          "name": "stdout",
          "text": [
            "El valor futuro de la inversion es: 11592.7\n"
          ]
        }
      ]
    },
    {
      "cell_type": "code",
      "source": [],
      "metadata": {
        "id": "f9bfn-KEj2sm"
      },
      "execution_count": null,
      "outputs": []
    }
  ]
}