{
  "nbformat": 4,
  "nbformat_minor": 0,
  "metadata": {
    "colab": {
      "provenance": [],
      "authorship_tag": "ABX9TyMgZCZfxifIoA0j4mphXwVX",
      "include_colab_link": true
    },
    "kernelspec": {
      "name": "python3",
      "display_name": "Python 3"
    },
    "language_info": {
      "name": "python"
    }
  },
  "cells": [
    {
      "cell_type": "markdown",
      "metadata": {
        "id": "view-in-github",
        "colab_type": "text"
      },
      "source": [
        "<a href=\"https://colab.research.google.com/github/pedro1153/350_ejercicios/blob/main/ejercicio_53_64.ipynb\" target=\"_parent\"><img src=\"https://colab.research.google.com/assets/colab-badge.svg\" alt=\"Open In Colab\"/></a>"
      ]
    },
    {
      "cell_type": "code",
      "execution_count": 7,
      "metadata": {
        "colab": {
          "base_uri": "https://localhost:8080/"
        },
        "id": "oM_D7Or9xTXk",
        "outputId": "5fa2a757-b1c9-48b2-e406-6f5f5fd41777"
      },
      "outputs": [
        {
          "output_type": "stream",
          "name": "stdout",
          "text": [
            "Number of occurrences: 2\n"
          ]
        }
      ],
      "source": [
        "default = ('YES', 'NO', 'NO', 'YES', 'NO')\n",
        "print(f\"Number of occurrences: {default.count('YES')}\")"
      ]
    },
    {
      "cell_type": "code",
      "source": [
        "names = ('Monica', 'Tom', 'John', 'Michael')\n",
        "namesl = sorted(names)\n",
        "print(tuple(namesl))\n",
        "\n",
        "sorted_names = tuple(sorted(names))\n",
        "print(sorted_names)"
      ],
      "metadata": {
        "colab": {
          "base_uri": "https://localhost:8080/"
        },
        "id": "dSVQ-ujrxx6z",
        "outputId": "c432d305-f492-422e-9958-3a3bc3b0ecec"
      },
      "execution_count": 24,
      "outputs": [
        {
          "output_type": "stream",
          "name": "stdout",
          "text": [
            "('John', 'Michael', 'Monica', 'Tom')\n",
            "('John', 'Michael', 'Monica', 'Tom')\n"
          ]
        }
      ]
    },
    {
      "cell_type": "code",
      "source": [
        "info = (('Monica', 19), ('Tom', 21), ('John', 18))\n",
        "print('Ascending:', tuple(sorted(info, reverse = False)))\n",
        "print('Descending:', tuple(sorted(info, reverse = True)))\n",
        "\n",
        "asc = tuple(sorted(info, key=lambda item: item[1]))\n",
        "desc = tuple(sorted(info, key=lambda item: item[1], reverse=True))\n",
        "print(f'Ascending: {asc}')\n",
        "print(f'Descending: {desc}')"
      ],
      "metadata": {
        "colab": {
          "base_uri": "https://localhost:8080/"
        },
        "id": "gKCw6XXb0Dpt",
        "outputId": "684e5e92-7e66-4867-bc74-3d7449f5fd20"
      },
      "execution_count": 10,
      "outputs": [
        {
          "output_type": "stream",
          "name": "stdout",
          "text": [
            "Ascending: (('John', 18), ('Monica', 19), ('Tom', 21))\n",
            "Descending: (('Tom', 21), ('Monica', 19), ('John', 18))\n",
            "Ascending: (('John', 18), ('Monica', 19), ('Tom', 21))\n",
            "Descending: (('Tom', 21), ('Monica', 19), ('John', 18))\n"
          ]
        }
      ]
    },
    {
      "cell_type": "code",
      "source": [
        "stocks = (\n",
        "    ('Apple Inc', ('AAPL.US', 310)),\n",
        "    ('Microsoft Corp', ('MSFT.US', 184)),\n",
        ")\n",
        "print(stocks[0][1][0])"
      ],
      "metadata": {
        "colab": {
          "base_uri": "https://localhost:8080/"
        },
        "id": "PcYT5ArF4NJm",
        "outputId": "7277a179-42c3-4338-e7fd-907b616bb947"
      },
      "execution_count": 14,
      "outputs": [
        {
          "output_type": "stream",
          "name": "stdout",
          "text": [
            "AAPL.US\n"
          ]
        }
      ]
    },
    {
      "cell_type": "code",
      "source": [
        "cities = ['Los Angeles', 'New York', 'Chicago']\n",
        "cities.append('Houston')\n",
        "print(f'{cities}')"
      ],
      "metadata": {
        "colab": {
          "base_uri": "https://localhost:8080/"
        },
        "id": "fQr-FwX38eDh",
        "outputId": "b5dff4f9-5a9b-4f91-9bdb-7fa982fc0483"
      },
      "execution_count": 22,
      "outputs": [
        {
          "output_type": "stream",
          "name": "stdout",
          "text": [
            "['Los Angeles', 'New York', 'Chicago', 'Houston']\n"
          ]
        }
      ]
    },
    {
      "cell_type": "code",
      "source": [
        "idx = ['001', '002', '001', '003', '001']\n",
        "print('Number of occurrences:', idx.count('001'))\n",
        "\n",
        "print(f\"Number of occurrences: {idx.count('001')}\")"
      ],
      "metadata": {
        "colab": {
          "base_uri": "https://localhost:8080/"
        },
        "id": "nlyEFkLH83Zm",
        "outputId": "390f9f72-3b5e-47c8-ddff-fad5619533de"
      },
      "execution_count": 29,
      "outputs": [
        {
          "output_type": "stream",
          "name": "stdout",
          "text": [
            "Number of occurrences: 3\n",
            "Number of occurrences: 3\n"
          ]
        }
      ]
    },
    {
      "cell_type": "code",
      "source": [],
      "metadata": {
        "id": "RGHW9rm--POp"
      },
      "execution_count": null,
      "outputs": []
    }
  ]
}