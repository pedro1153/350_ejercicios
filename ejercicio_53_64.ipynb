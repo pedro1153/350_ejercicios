{
  "nbformat": 4,
  "nbformat_minor": 0,
  "metadata": {
    "colab": {
      "provenance": [],
      "authorship_tag": "ABX9TyMmvua+7xMcOSndRN4ccFuQ",
      "include_colab_link": true
    },
    "kernelspec": {
      "name": "python3",
      "display_name": "Python 3"
    },
    "language_info": {
      "name": "python"
    }
  },
  "cells": [
    {
      "cell_type": "markdown",
      "metadata": {
        "id": "view-in-github",
        "colab_type": "text"
      },
      "source": [
        "<a href=\"https://colab.research.google.com/github/pedro1153/350_ejercicios/blob/main/ejercicio_53_64.ipynb\" target=\"_parent\"><img src=\"https://colab.research.google.com/assets/colab-badge.svg\" alt=\"Open In Colab\"/></a>"
      ]
    },
    {
      "cell_type": "code",
      "execution_count": 1,
      "metadata": {
        "colab": {
          "base_uri": "https://localhost:8080/"
        },
        "id": "oM_D7Or9xTXk",
        "outputId": "11b899e0-ca22-48b9-cbbd-030d13a75a99"
      },
      "outputs": [
        {
          "output_type": "stream",
          "name": "stdout",
          "text": [
            "Number of occurrences: 2\n"
          ]
        }
      ],
      "source": [
        "default = ('YES', 'NO', 'NO', 'YES', 'NO')\n",
        "print(f\"Number of occurrences: {default.count('YES')}\")"
      ]
    },
    {
      "cell_type": "code",
      "source": [
        "names = ('Monica', 'Tom', 'John', 'Michael')\n",
        "namesl = sorted(names)\n",
        "print(tuple(namesl))\n",
        "\n",
        "sorted_names = tuple(sorted(names))\n",
        "print(sorted_names)"
      ],
      "metadata": {
        "colab": {
          "base_uri": "https://localhost:8080/"
        },
        "id": "dSVQ-ujrxx6z",
        "outputId": "072d1acd-86cc-4fb4-c4ad-c5e68b4c3e2b"
      },
      "execution_count": 2,
      "outputs": [
        {
          "output_type": "stream",
          "name": "stdout",
          "text": [
            "('John', 'Michael', 'Monica', 'Tom')\n",
            "('John', 'Michael', 'Monica', 'Tom')\n"
          ]
        }
      ]
    },
    {
      "cell_type": "code",
      "source": [
        "info = (('Monica', 19), ('Tom', 21), ('John', 18))\n",
        "print('Ascending:', tuple(sorted(info, reverse = False)))\n",
        "print('Descending:', tuple(sorted(info, reverse = True)))\n",
        "\n",
        "asc = tuple(sorted(info, key=lambda item: item[1]))\n",
        "desc = tuple(sorted(info, key=lambda item: item[1], reverse=True))\n",
        "print(f'Ascending: {asc}')\n",
        "print(f'Descending: {desc}')"
      ],
      "metadata": {
        "colab": {
          "base_uri": "https://localhost:8080/"
        },
        "id": "gKCw6XXb0Dpt",
        "outputId": "db2fcae7-dbb3-44b5-c3d7-57302cfc6537"
      },
      "execution_count": 3,
      "outputs": [
        {
          "output_type": "stream",
          "name": "stdout",
          "text": [
            "Ascending: (('John', 18), ('Monica', 19), ('Tom', 21))\n",
            "Descending: (('Tom', 21), ('Monica', 19), ('John', 18))\n",
            "Ascending: (('John', 18), ('Monica', 19), ('Tom', 21))\n",
            "Descending: (('Tom', 21), ('Monica', 19), ('John', 18))\n"
          ]
        }
      ]
    },
    {
      "cell_type": "code",
      "source": [
        "stocks = (\n",
        "    ('Apple Inc', ('AAPL.US', 310)),\n",
        "    ('Microsoft Corp', ('MSFT.US', 184)),\n",
        ")\n",
        "print(stocks[0][1][0])"
      ],
      "metadata": {
        "colab": {
          "base_uri": "https://localhost:8080/"
        },
        "id": "PcYT5ArF4NJm",
        "outputId": "efe8da1c-62ca-443a-f9d0-2fd01d6ba9bf"
      },
      "execution_count": 4,
      "outputs": [
        {
          "output_type": "stream",
          "name": "stdout",
          "text": [
            "AAPL.US\n"
          ]
        }
      ]
    },
    {
      "cell_type": "code",
      "source": [
        "cities = ['Los Angeles', 'New York', 'Chicago']\n",
        "cities.append('Houston')\n",
        "print(f'{cities}')"
      ],
      "metadata": {
        "colab": {
          "base_uri": "https://localhost:8080/"
        },
        "id": "fQr-FwX38eDh",
        "outputId": "73fcf78d-7511-49a9-be7d-8c0fb5c73d5d"
      },
      "execution_count": 5,
      "outputs": [
        {
          "output_type": "stream",
          "name": "stdout",
          "text": [
            "['Los Angeles', 'New York', 'Chicago', 'Houston']\n"
          ]
        }
      ]
    },
    {
      "cell_type": "code",
      "source": [
        "idx = ['001', '002', '001', '003', '001']\n",
        "print('Number of occurrences:', idx.count('001'))\n",
        "\n",
        "print(f\"Number of occurrences: {idx.count('001')}\")"
      ],
      "metadata": {
        "colab": {
          "base_uri": "https://localhost:8080/"
        },
        "id": "nlyEFkLH83Zm",
        "outputId": "994a4675-8eb3-4344-afa0-e47b2410edbb"
      },
      "execution_count": 6,
      "outputs": [
        {
          "output_type": "stream",
          "name": "stdout",
          "text": [
            "Number of occurrences: 3\n",
            "Number of occurrences: 3\n"
          ]
        }
      ]
    },
    {
      "cell_type": "code",
      "source": [
        "text = 'Python programming'\n",
        "text1 = text.lower()\n",
        "text2 = text1.replace(' ','')\n",
        "text3 = sorted(set(text2))\n",
        "print(text3)"
      ],
      "metadata": {
        "id": "RGHW9rm--POp",
        "outputId": "e47d66e1-2202-44be-9375-1592cd88a747",
        "colab": {
          "base_uri": "https://localhost:8080/"
        }
      },
      "execution_count": null,
      "outputs": [
        {
          "output_type": "stream",
          "name": "stdout",
          "text": [
            "['a', 'g', 'h', 'i', 'm', 'n', 'o', 'p', 'r', 't', 'y']\n"
          ]
        }
      ]
    },
    {
      "cell_type": "code",
      "source": [
        "filenames = ['view.jpg', 'bear.jpg', 'ball.png']\n",
        "filenames.insert(0, 'phone.jpg')\n",
        "filenames.remove('ball.png')\n",
        "print(filenames)"
      ],
      "metadata": {
        "id": "jy79QMsH6XAr",
        "outputId": "5f12287c-aba6-4256-ffe5-7e13189947de",
        "colab": {
          "base_uri": "https://localhost:8080/"
        }
      },
      "execution_count": null,
      "outputs": [
        {
          "output_type": "stream",
          "name": "stdout",
          "text": [
            "['phone.jpg', 'view.jpg', 'bear.jpg']\n"
          ]
        }
      ]
    },
    {
      "cell_type": "code",
      "source": [
        "day1 = ['3984', '9042', '4829', '2380']\n",
        "day2 = ['4231', '5234', '1345', '2455']\n",
        "day1.extend(day2)\n",
        "print(day1)"
      ],
      "metadata": {
        "id": "vlvMKV1i99KM",
        "outputId": "a34b767a-0486-4adb-fff1-e9458626bf18",
        "colab": {
          "base_uri": "https://localhost:8080/"
        }
      },
      "execution_count": null,
      "outputs": [
        {
          "output_type": "stream",
          "name": "stdout",
          "text": [
            "['3984', '9042', '4829', '2380', '4231', '5234', '1345', '2455']\n"
          ]
        }
      ]
    },
    {
      "cell_type": "code",
      "source": [
        "techs = ('python', 'java', 'sql', 'aws')\n",
        "techs1 = sorted(techs)\n",
        "techs1 = tuple(techs1)\n",
        "print(techs1)\n"
      ],
      "metadata": {
        "id": "qnrLNpMcAxaS",
        "outputId": "46715a30-2697-4eb0-914c-87eba0c5c40d",
        "colab": {
          "base_uri": "https://localhost:8080/"
        }
      },
      "execution_count": null,
      "outputs": [
        {
          "output_type": "stream",
          "name": "stdout",
          "text": [
            "('aws', 'java', 'python', 'sql')\n"
          ]
        }
      ]
    },
    {
      "cell_type": "code",
      "source": [
        "hashtags = ['summer', 'time', 'vibes']\n",
        "str01 = hashtags.insert( 0, '#')\n",
        "str02 = hashtags.insert( 2, '#')\n",
        "str03 = hashtags.insert( 4, '#')\n",
        "strhast = \"\".join(hashtags)\n",
        "print(strhast)\n",
        "\n",
        "hashtags1 = ['summer', 'time', 'vibes', 'prueba']\n",
        "print('#' + '#' .join(hashtags1))\n",
        "print('%' + '%' .join(hashtags1))"
      ],
      "metadata": {
        "id": "Rd34SY8lFo9O",
        "outputId": "369c21c6-ef57-419d-8991-ff092955f3d6",
        "colab": {
          "base_uri": "https://localhost:8080/"
        }
      },
      "execution_count": 17,
      "outputs": [
        {
          "output_type": "stream",
          "name": "stdout",
          "text": [
            "#summer#time#vibes\n",
            "#summer#time#vibes#prueba\n",
            "%summer%time%vibes%prueba\n"
          ]
        }
      ]
    },
    {
      "cell_type": "code",
      "source": [],
      "metadata": {
        "id": "_idfF78qHMND"
      },
      "execution_count": null,
      "outputs": []
    }
  ]
}