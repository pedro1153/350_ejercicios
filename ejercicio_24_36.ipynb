{
  "nbformat": 4,
  "nbformat_minor": 0,
  "metadata": {
    "colab": {
      "provenance": [],
      "authorship_tag": "ABX9TyPker5T7ZIi1nw9fgLUAB0D",
      "include_colab_link": true
    },
    "kernelspec": {
      "name": "python3",
      "display_name": "Python 3"
    },
    "language_info": {
      "name": "python"
    }
  },
  "cells": [
    {
      "cell_type": "markdown",
      "metadata": {
        "id": "view-in-github",
        "colab_type": "text"
      },
      "source": [
        "<a href=\"https://colab.research.google.com/github/pedro1153/350_ejercicios/blob/main/ejercicio_24_36.ipynb\" target=\"_parent\"><img src=\"https://colab.research.google.com/assets/colab-badge.svg\" alt=\"Open In Colab\"/></a>"
      ]
    },
    {
      "cell_type": "code",
      "execution_count": 12,
      "metadata": {
        "colab": {
          "base_uri": "https://localhost:8080/"
        },
        "id": "wGyoutnZdjIT",
        "outputId": "928c616e-ff05-48db-99fd-a53ced39011c"
      },
      "outputs": [
        {
          "output_type": "stream",
          "name": "stdout",
          "text": [
            "El numero en binario es 100101 y el numero decimal es 37\n",
            "El numero decimal del numero binario 100101 es: 37 y el de 1000100101 es: 549\n"
          ]
        }
      ],
      "source": [
        "# eliminar los espacios\n",
        "string = '1 0 0 1 0 1'\n",
        "binary = string[::2]          # elementos de una cadena de dos en dos => nombre[::2]\n",
        "number = int(binary, 2)       # pasar un numero binario a numero con int('11111', 2), el 2 es binario\n",
        "print(f'El numero en binario es {binary} y el numero decimal es {number}')\n",
        "print('El numero decimal del numero binario 100101 es:', int('100101', 2), 'y el de 1000100101 es:', int('1000100101', 2))"
      ]
    },
    {
      "cell_type": "code",
      "source": [
        "text = 'Python Course'\n",
        "txt = text[::-1]\n",
        "print(txt)"
      ],
      "metadata": {
        "colab": {
          "base_uri": "https://localhost:8080/"
        },
        "id": "3kRrUUHZdw2C",
        "outputId": "2e01e9e3-57dd-46c1-b326-6976cc093b49"
      },
      "execution_count": 15,
      "outputs": [
        {
          "output_type": "stream",
          "name": "stdout",
          "text": [
            "esruoC nohtyP\n"
          ]
        }
      ]
    },
    {
      "cell_type": "code",
      "source": [
        "var1 = ''\n",
        "var2 = ' '\n",
        "var3 = '\\n'\n",
        "print(type(var1))\n",
        "print(type(var2))\n",
        "print(type(var3))"
      ],
      "metadata": {
        "colab": {
          "base_uri": "https://localhost:8080/"
        },
        "id": "FXG2LJITjSor",
        "outputId": "ff0fb57f-1c08-458d-e4a1-77da8e2d4f4a"
      },
      "execution_count": 19,
      "outputs": [
        {
          "output_type": "stream",
          "name": "stdout",
          "text": [
            "<class 'str'>\n",
            "<class 'str'>\n",
            "<class 'str'>\n"
          ]
        }
      ]
    },
    {
      "cell_type": "code",
      "source": [
        "var1 = None\n",
        "var2 = False\n",
        "var3 = 'True'\n",
        "print(type(var1))\n",
        "print(type(var2))\n",
        "print(type(var3))"
      ],
      "metadata": {
        "colab": {
          "base_uri": "https://localhost:8080/"
        },
        "id": "MR3MnSiOj4Bi",
        "outputId": "11d3fb22-084b-43b0-cbea-9f04cf9edcb1"
      },
      "execution_count": 20,
      "outputs": [
        {
          "output_type": "stream",
          "name": "stdout",
          "text": [
            "<class 'NoneType'>\n",
            "<class 'bool'>\n",
            "<class 'str'>\n"
          ]
        }
      ]
    },
    {
      "cell_type": "code",
      "source": [
        "flag = False\n",
        "print(not flag)\n",
        "print(isinstance(flag, bool))"
      ],
      "metadata": {
        "colab": {
          "base_uri": "https://localhost:8080/"
        },
        "id": "zJCZ7eWXk45D",
        "outputId": "5b4b6509-7b28-4192-d1c6-1dd16836689d"
      },
      "execution_count": 27,
      "outputs": [
        {
          "output_type": "stream",
          "name": "stdout",
          "text": [
            "True\n",
            "True\n"
          ]
        }
      ]
    },
    {
      "cell_type": "code",
      "source": [
        "text = 'python is a popular programming language.'\n",
        "print(text.capitalize())"
      ],
      "metadata": {
        "colab": {
          "base_uri": "https://localhost:8080/"
        },
        "id": "JqYLtDC9oy54",
        "outputId": "021896f3-630a-4f35-8551-746b57593bd3"
      },
      "execution_count": 28,
      "outputs": [
        {
          "output_type": "stream",
          "name": "stdout",
          "text": [
            "Python is a popular programming language.\n"
          ]
        }
      ]
    },
    {
      "cell_type": "code",
      "source": [
        "text = 'python is a popular programming language.'\n",
        "num = 'python is a popular programming language.'.count('p')\n",
        "print('Number of occurrences:', num)\n",
        "print('Number of occurrences:', 'python is a popular programming language.'.count('p'))\n",
        "print(f\"Número de ocurrencias: {text.count('p')}\")"
      ],
      "metadata": {
        "colab": {
          "base_uri": "https://localhost:8080/"
        },
        "id": "m-OE3OKIrn7u",
        "outputId": "874a4147-1497-4214-f40b-dfce47949379"
      },
      "execution_count": 36,
      "outputs": [
        {
          "output_type": "stream",
          "name": "stdout",
          "text": [
            "Number of occurrences: 4\n",
            "Number of occurrences: 4\n",
            "Número de ocurrencias: 4\n"
          ]
        }
      ]
    },
    {
      "cell_type": "code",
      "source": [
        "code1 = 'FVNISJND-XX-2020'\n",
        "code2 = 'FVNISJND-XY-2019'\n",
        "print('code1:', code1[-4:] == '2020')\n",
        "print('code2:', code2[-4:] == '2020')\n",
        "\n",
        "print(f\"code1: {code1.endswith('2020')}\")\n",
        "print(f\"code2: {code2.endswith('2020')}\")"
      ],
      "metadata": {
        "colab": {
          "base_uri": "https://localhost:8080/"
        },
        "id": "ksKS1GRHsNl2",
        "outputId": "847e7ac8-0ec8-4842-e72f-66cce05d5511"
      },
      "execution_count": 48,
      "outputs": [
        {
          "output_type": "stream",
          "name": "stdout",
          "text": [
            "code1: True\n",
            "code2: False\n",
            "code1: True\n",
            "code2: False\n"
          ]
        }
      ]
    },
    {
      "cell_type": "code",
      "source": [
        "path1 = 'youtube.com/watch?v=5EhRztVxums'\n",
        "path2 = 'google.com/search?q=car'\n",
        "print('path1:', path1.startswith(\"youtube\"))\n",
        "print('path2:', path2.startswith(\"youtube\"))"
      ],
      "metadata": {
        "colab": {
          "base_uri": "https://localhost:8080/"
        },
        "id": "RZ4CTbaOt2iO",
        "outputId": "d8f35519-20a5-4937-e7b2-cef56f799898"
      },
      "execution_count": 53,
      "outputs": [
        {
          "output_type": "stream",
          "name": "stdout",
          "text": [
            "path1: True\n",
            "path2: False\n"
          ]
        }
      ]
    },
    {
      "cell_type": "code",
      "source": [
        "path1 = 'https://e-smartdata.teachable.com/p/sciezka-data-scientist-machine-learning-engineer'\n",
        "path2 = 'https://e-smartdata.teachable.com/p/sciezka-data-scientist-deep-learning-engineer'\n",
        "path3 = 'https://e-smartdata.teachable.com/p/sciezka-bi-analyst-data-analyst'\n",
        "# print('scientist' in path1)\n",
        "# print('scientist' in path2)\n",
        "# print('scientist' in path3)\n",
        "print('path1:', path1.find('scientist'))\n",
        "print('path2:', path2.find('scientist'))\n",
        "# print(path3.find('scientist'))\n",
        "result = path3.find('scientist')\n",
        "if result == -1:\n",
        "    print('path3:', -1)\n",
        "else:\n",
        "    print(result)\n",
        "\n",
        "print(f\"path1: {path1.find('scientist')}\")\n",
        "print(f\"path2: {path2.find('scientist')}\")\n",
        "print(f\"path3: {path3.find('scientist')}\")"
      ],
      "metadata": {
        "colab": {
          "base_uri": "https://localhost:8080/"
        },
        "id": "YgLzR6vgvwiA",
        "outputId": "00545c15-7e5f-4895-d5aa-63c85fa2adb3"
      },
      "execution_count": 75,
      "outputs": [
        {
          "output_type": "stream",
          "name": "stdout",
          "text": [
            "path1: 49\n",
            "path2: 49\n",
            "path3: -1\n",
            "path1: 49\n",
            "path2: 49\n",
            "path3: -1\n"
          ]
        }
      ]
    },
    {
      "cell_type": "code",
      "source": [
        "code1 = 'FVNISJND-20'\n",
        "code2 = 'FVNISJND20'\n",
        "print('code1:', code1.isalnum())\n",
        "print('code2:', code2.isalnum())"
      ],
      "metadata": {
        "colab": {
          "base_uri": "https://localhost:8080/"
        },
        "id": "a-o0xju9w-Ls",
        "outputId": "18d96278-76f8-4774-ee0f-6a230bab490d"
      },
      "execution_count": 83,
      "outputs": [
        {
          "output_type": "stream",
          "name": "stdout",
          "text": [
            "code1: False\n",
            "code2: True\n"
          ]
        }
      ]
    },
    {
      "cell_type": "code",
      "source": [
        "text = 'Google Colab'\n",
        "print(text.lower())"
      ],
      "metadata": {
        "colab": {
          "base_uri": "https://localhost:8080/"
        },
        "id": "kCjr8yRJ1lx1",
        "outputId": "318bbe40-0bd0-4c69-db84-3c904a3ee974"
      },
      "execution_count": 84,
      "outputs": [
        {
          "output_type": "stream",
          "name": "stdout",
          "text": [
            "google colab\n"
          ]
        }
      ]
    },
    {
      "cell_type": "code",
      "source": [],
      "metadata": {
        "id": "Vz7wQ22s20nR"
      },
      "execution_count": null,
      "outputs": []
    }
  ]
}