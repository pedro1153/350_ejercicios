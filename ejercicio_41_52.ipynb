{
  "nbformat": 4,
  "nbformat_minor": 0,
  "metadata": {
    "colab": {
      "provenance": [],
      "authorship_tag": "ABX9TyMiTS3/JMVrY3krbcQDwtZ+",
      "include_colab_link": true
    },
    "kernelspec": {
      "name": "python3",
      "display_name": "Python 3"
    },
    "language_info": {
      "name": "python"
    }
  },
  "cells": [
    {
      "cell_type": "markdown",
      "metadata": {
        "id": "view-in-github",
        "colab_type": "text"
      },
      "source": [
        "<a href=\"https://colab.research.google.com/github/pedro1153/350_ejercicios/blob/main/ejercicio_41_52.ipynb\" target=\"_parent\"><img src=\"https://colab.research.google.com/assets/colab-badge.svg\" alt=\"Open In Colab\"/></a>"
      ]
    },
    {
      "cell_type": "code",
      "execution_count": 1,
      "metadata": {
        "colab": {
          "base_uri": "https://localhost:8080/"
        },
        "id": "thSObN08eNsk",
        "outputId": "300d9e74-66b8-4429-9c1a-2ef12928daf0"
      },
      "outputs": [
        {
          "output_type": "stream",
          "name": "stdout",
          "text": [
            "['Open', 'High', 'Low', 'Close']\n"
          ]
        }
      ],
      "source": [
        "text = 'Open,High,Low,Close'\n",
        "print(text.split(sep = ','))"
      ]
    },
    {
      "cell_type": "code",
      "source": [
        "text = \"\"\"Python is a general-purpose language. \n",
        "Python is popular.\"\"\"\n",
        "print(text.splitlines())"
      ],
      "metadata": {
        "colab": {
          "base_uri": "https://localhost:8080/"
        },
        "id": "xFj5Y1the96N",
        "outputId": "ee693d10-29db-468a-c12e-5a59932b9eba"
      },
      "execution_count": 2,
      "outputs": [
        {
          "output_type": "stream",
          "name": "stdout",
          "text": [
            "['Python is a general-purpose language. ', 'Python is popular.']\n"
          ]
        }
      ]
    },
    {
      "cell_type": "code",
      "source": [
        "num = 34\n",
        "print(str(num). rjust(6, '0'))\n",
        "print(str(num). zfill(6))"
      ],
      "metadata": {
        "colab": {
          "base_uri": "https://localhost:8080/"
        },
        "id": "GZpcZM7JgQ1q",
        "outputId": "39ede77f-19fa-43b7-ac30-e3e549e5c6c9"
      },
      "execution_count": 4,
      "outputs": [
        {
          "output_type": "stream",
          "name": "stdout",
          "text": [
            "000034\n",
            "000034\n"
          ]
        }
      ]
    },
    {
      "cell_type": "code",
      "source": [
        "url = 'https://e-smartdata.teachable.com/p/sciezka-data-scientist-machine-learning-engineer'\n",
        "url01 = url[-48:]\n",
        "url02 = url01.replace('-', ' ')\n",
        "print(url02)\n",
        "\n",
        "name = url.split('/')[-1]\n",
        "print(name)\n",
        "name = name.replace('-', ' ')\n",
        "print(name)"
      ],
      "metadata": {
        "colab": {
          "base_uri": "https://localhost:8080/"
        },
        "id": "eyOkl0Q7iUDW",
        "outputId": "2342ab4c-4bbe-4de8-e21f-d933de3d1095"
      },
      "execution_count": 5,
      "outputs": [
        {
          "output_type": "stream",
          "name": "stdout",
          "text": [
            "sciezka data scientist machine learning engineer\n",
            "sciezka-data-scientist-machine-learning-engineer\n",
            "sciezka data scientist machine learning engineer\n"
          ]
        }
      ]
    },
    {
      "cell_type": "code",
      "source": [
        "subjects = {'mathematics', 'biology'}\n",
        "subjects = sorted(subjects)\n",
        "subjects02 = subjects.append('english')\n",
        "print(subjects)\n",
        "\n",
        "subjects = {'mathematics', 'biology'}\n",
        "subjects.add('english')\n",
        "print(subjects)"
      ],
      "metadata": {
        "colab": {
          "base_uri": "https://localhost:8080/"
        },
        "id": "v_geyqRHnRhF",
        "outputId": "259df170-16ed-4cc4-9b62-dd7090719ce3"
      },
      "execution_count": 11,
      "outputs": [
        {
          "output_type": "stream",
          "name": "stdout",
          "text": [
            "['biology', 'mathematics', 'english']\n",
            "{'biology', 'english', 'mathematics'}\n"
          ]
        }
      ]
    },
    {
      "cell_type": "code",
      "source": [
        "text = 'Programming in python.'\n",
        "vowels = {'a', 'e', 'i', 'o', 'u'}\n",
        "text01 = text.lower()\n",
        "text02 = text01.replace(' ', '')\n",
        "text03 = text02.replace('.', '')\n",
        "text04 = set(text03)\n",
        "string = ''.join( x for x in text04 if x not in vowels)\n",
        "print('Number of items:',len(string))\n",
        "\n",
        "text = 'Programming in python.'\n",
        "text = text.lower()\n",
        "text = text.replace(' ', '')\n",
        "text = text.replace('.', '')\n",
        "vowels = {'a', 'e', 'i', 'o', 'u'}\n",
        "letters = set(text)\n",
        "consonants = letters.difference(vowels)\n",
        "print(f'Number of items: {len(consonants)}')"
      ],
      "metadata": {
        "id": "OGpNF8PCtFTJ",
        "colab": {
          "base_uri": "https://localhost:8080/"
        },
        "outputId": "f3b837a2-9783-4261-da92-059882f2f342"
      },
      "execution_count": 30,
      "outputs": [
        {
          "output_type": "stream",
          "name": "stdout",
          "text": [
            "Number of items: 8\n",
            "Number of items: 8\n"
          ]
        }
      ]
    },
    {
      "cell_type": "code",
      "source": [
        "A = {2, 4, 6, 8}\n",
        "B = {4, 10}\n",
        "print('Symmetric difference:', A ^ B)\n",
        "\n",
        "sym_diff = A.symmetric_difference(B)\n",
        "print(f'Symmetric difference: {sym_diff}')"
      ],
      "metadata": {
        "colab": {
          "base_uri": "https://localhost:8080/"
        },
        "id": "6A9LHf38e3PI",
        "outputId": "84443515-3152-4f61-a64c-4a0a1cc1adf2"
      },
      "execution_count": 37,
      "outputs": [
        {
          "output_type": "stream",
          "name": "stdout",
          "text": [
            "Symmetric difference: {2, 6, 8, 10}\n",
            "Symmetric difference: {2, 6, 8, 10}\n"
          ]
        }
      ]
    },
    {
      "cell_type": "code",
      "source": [
        "ad1_id = {'001', '002', '003'}\n",
        "ad2_id = {'002', '003', '007'}\n",
        "Selec_ID = ad1_id ^ ad2_id\n",
        "print('Selected ID:', Selec_ID)\n",
        "\n",
        "result = ad1_id.symmetric_difference(ad2_id)\n",
        "print(f'Selected ID: {result}')"
      ],
      "metadata": {
        "colab": {
          "base_uri": "https://localhost:8080/"
        },
        "id": "W7WeAHDJk9YE",
        "outputId": "df8f15ce-b13c-4783-fb63-15601a5fd87c"
      },
      "execution_count": 44,
      "outputs": [
        {
          "output_type": "stream",
          "name": "stdout",
          "text": [
            "Selected ID: {'001', '007'}\n",
            "Selected ID: {'001', '007'}\n"
          ]
        }
      ]
    },
    {
      "cell_type": "code",
      "source": [
        "is_clicked = {'9001', '9002', '9005'}\n",
        "is_bought = {'9002', '9004', '9005'}\n",
        "Cust_ID = is_bought & is_clicked\n",
        "print(f'Customer ID: {Cust_ID}')\n",
        "\n",
        "result = is_clicked.intersection(is_bought)\n",
        "print(f'Customer ID: {result}')"
      ],
      "metadata": {
        "colab": {
          "base_uri": "https://localhost:8080/"
        },
        "id": "p-I7cu0dm0HW",
        "outputId": "360a63f8-07db-471a-c025-ddfd25217e9b"
      },
      "execution_count": 50,
      "outputs": [
        {
          "output_type": "stream",
          "name": "stdout",
          "text": [
            "Customer ID: {'9005', '9002'}\n",
            "Customer ID: {'9005', '9002'}\n"
          ]
        }
      ]
    },
    {
      "cell_type": "code",
      "source": [
        "dji1 = ('AAPL.US', 'IBM.US', 'MSFT.US')\n",
        "dji2 = ('HD.US', 'GS.US', 'NKE.US')\n",
        "dji = dji1 + dji2\n",
        "print(dji)"
      ],
      "metadata": {
        "colab": {
          "base_uri": "https://localhost:8080/"
        },
        "id": "no5UN8teoZM4",
        "outputId": "5c973485-5989-4f0d-ec48-80b9e8c63f20"
      },
      "execution_count": 56,
      "outputs": [
        {
          "output_type": "stream",
          "name": "stdout",
          "text": [
            "('AAPL.US', 'IBM.US', 'MSFT.US', 'HD.US', 'GS.US', 'NKE.US')\n"
          ]
        }
      ]
    },
    {
      "cell_type": "code",
      "source": [
        "dji1 = ('AAPL.US', 'IBM.US', 'MSFT.US')\n",
        "dji2 = ('HD.US', 'GS.US', 'NKE.US')\n",
        "dji1l = list(dji1)\n",
        "dji2l = list(dji2)\n",
        "res = []\n",
        "res.append(tuple(dji1l))\n",
        "res.append(tuple(dji2l))\n",
        "rest = tuple(res)\n",
        "print(rest)\n",
        "\n",
        "result = (dji1, dji2)\n",
        "print(result)"
      ],
      "metadata": {
        "colab": {
          "base_uri": "https://localhost:8080/"
        },
        "id": "tLdZHWGfp1z6",
        "outputId": "4d373849-7538-4702-a1aa-3d9345a74aba"
      },
      "execution_count": 12,
      "outputs": [
        {
          "output_type": "stream",
          "name": "stdout",
          "text": [
            "(('AAPL.US', 'IBM.US', 'MSFT.US'), ('HD.US', 'GS.US', 'NKE.US'))\n",
            "(('AAPL.US', 'IBM.US', 'MSFT.US'), ('HD.US', 'GS.US', 'NKE.US'))\n"
          ]
        }
      ]
    },
    {
      "cell_type": "code",
      "source": [
        "members = (('Kate', 23), ('Tom', 19))\n",
        "memb = ('John', 26)\n",
        "print((members[0], memb, members[1]))\n",
        "\n",
        "members = (members[0], ('John', 26), members[1])\n",
        "print(members)"
      ],
      "metadata": {
        "colab": {
          "base_uri": "https://localhost:8080/"
        },
        "id": "xw2C9a2AsxWK",
        "outputId": "c1b8e28f-a6b9-43b8-e04d-846b3b8e6121"
      },
      "execution_count": 25,
      "outputs": [
        {
          "output_type": "stream",
          "name": "stdout",
          "text": [
            "(('Kate', 23), ('John', 26), ('Tom', 19))\n",
            "(('Kate', 23), ('John', 26), ('Tom', 19))\n"
          ]
        }
      ]
    },
    {
      "cell_type": "code",
      "source": [],
      "metadata": {
        "id": "F86zLzvP3ten"
      },
      "execution_count": null,
      "outputs": []
    }
  ]
}