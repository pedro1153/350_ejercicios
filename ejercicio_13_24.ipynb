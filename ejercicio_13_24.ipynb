{
  "nbformat": 4,
  "nbformat_minor": 0,
  "metadata": {
    "colab": {
      "provenance": [],
      "authorship_tag": "ABX9TyM3fyUOikfYzoDHPY8MBpIM",
      "include_colab_link": true
    },
    "kernelspec": {
      "name": "python3",
      "display_name": "Python 3"
    },
    "language_info": {
      "name": "python"
    }
  },
  "cells": [
    {
      "cell_type": "markdown",
      "metadata": {
        "id": "view-in-github",
        "colab_type": "text"
      },
      "source": [
        "<a href=\"https://colab.research.google.com/github/pedro1153/350_ejercicios/blob/main/ejercicio_13_24.ipynb\" target=\"_parent\"><img src=\"https://colab.research.google.com/assets/colab-badge.svg\" alt=\"Open In Colab\"/></a>"
      ]
    },
    {
      "cell_type": "code",
      "execution_count": 1,
      "metadata": {
        "colab": {
          "base_uri": "https://localhost:8080/"
        },
        "id": "nO4o9EZAgsdJ",
        "outputId": "d97f553a-d823-477f-bbb0-9c8da2b30ac4"
      },
      "outputs": [
        {
          "output_type": "stream",
          "name": "stdout",
          "text": [
            "Delta: 4\n"
          ]
        }
      ],
      "source": [
        "a = 3\n",
        "b = -4\n",
        "c = 1\n",
        "delta = b ** 2 - 4 * a * c    # para calcular delta = b**2 - 4ac\n",
        "print(f'Delta: {delta}')"
      ]
    },
    {
      "cell_type": "code",
      "source": [
        "# an = 10 + 4 * n\n",
        "n = 10\n",
        "a1 = 10 + 4 * 1\n",
        "a10 = 10 + 4 * 10\n",
        "s10 = (a1 + a10)/2 * n\n",
        "print(f'La suma de los primeros 10 elemenntos de la secuencias es: {s10:.3f} ')"
      ],
      "metadata": {
        "colab": {
          "base_uri": "https://localhost:8080/"
        },
        "id": "kSesuTi-jtCv",
        "outputId": "151b382a-994f-4f61-f7be-4da05340d722"
      },
      "execution_count": 5,
      "outputs": [
        {
          "output_type": "stream",
          "name": "stdout",
          "text": [
            "La suma de los primeros 10 elemenntos de la secuencias es: 320.000 \n"
          ]
        }
      ]
    },
    {
      "cell_type": "code",
      "source": [
        "# an = 8 * 2 ** (n-1)  calcular la suma de los 6 primeros elementos\n",
        "a1 = 8\n",
        "a2 = 8 * 2 ** 1\n",
        "print(a2)\n",
        "n = 6\n",
        "q = a2/a1\n",
        "a1_6 = a1 * ((1-q**n)/(1-q))\n",
        "print(f'La suma de los 6 primeros elementos de la secuencia es:{a1_6}')"
      ],
      "metadata": {
        "colab": {
          "base_uri": "https://localhost:8080/"
        },
        "id": "bjqpHjhklmJH",
        "outputId": "2c0d139a-b062-40d7-9491-9dfeeeb24e29"
      },
      "execution_count": 11,
      "outputs": [
        {
          "output_type": "stream",
          "name": "stdout",
          "text": [
            "16\n",
            "La suma de los 6 primeros elementos de la secuencia es:504.0\n"
          ]
        }
      ]
    },
    {
      "cell_type": "code",
      "source": [
        "# x2 + 5*x + 4 = 0   calcular la suma y el producto de las raices segun vieta\n",
        "a = 1\n",
        "b = 5\n",
        "c = 4\n",
        "suma = -b/a\n",
        "producto = c/a\n",
        "print(f'x1 + x2 = {suma}\\nx1x2 = {producto}')"
      ],
      "metadata": {
        "colab": {
          "base_uri": "https://localhost:8080/"
        },
        "id": "qXMDXbCImTkO",
        "outputId": "d0ee3797-456d-409e-a5ca-406954bebee8"
      },
      "execution_count": 12,
      "outputs": [
        {
          "output_type": "stream",
          "name": "stdout",
          "text": [
            "x1 + x2 = -5.0\n",
            "x1x2 = 4.0\n"
          ]
        }
      ]
    },
    {
      "cell_type": "code",
      "source": [
        "# punto medio de A = (2, 4) y B = (-4, 6)\n",
        "a1 = 2\n",
        "a2 = 4\n",
        "b1 = -4\n",
        "b2 = 6\n",
        "s1 = (a1 + b1) / 2\n",
        "s2 = (a2 + b2) / 2\n",
        "print(f'Elpunto medio es C({s1} ,{s2})')"
      ],
      "metadata": {
        "colab": {
          "base_uri": "https://localhost:8080/"
        },
        "id": "rk7SzxIgo6Ex",
        "outputId": "c8e8de4b-b459-438c-9b3c-2baae763ac08"
      },
      "execution_count": 24,
      "outputs": [
        {
          "output_type": "stream",
          "name": "stdout",
          "text": [
            "Elpunto medio es C(-1.0 ,5.0)\n"
          ]
        }
      ]
    },
    {
      "cell_type": "code",
      "source": [
        "# distancia entre A(3,2) y B(-1, -1)\n",
        "a1 = 3\n",
        "a2 = 2\n",
        "b1 = -1\n",
        "b2 = -1\n",
        "h1 = a1- b1\n",
        "h2 = a2 -b2\n",
        "h1_2 = h1**2\n",
        "h2_2 = h2**2\n",
        "h = h1_2 + h2_2\n",
        "print(f'La distancia entre los puntos A y B es:{h**0.5}')\n"
      ],
      "metadata": {
        "colab": {
          "base_uri": "https://localhost:8080/"
        },
        "id": "JfmyHMN1qFPx",
        "outputId": "e9ca3c70-aa61-44c3-dbd9-d2259c7f90a4"
      },
      "execution_count": 28,
      "outputs": [
        {
          "output_type": "stream",
          "name": "stdout",
          "text": [
            "La distancia entre los puntos A y B es:5.0\n"
          ]
        }
      ]
    },
    {
      "cell_type": "code",
      "source": [
        "# x2 + 5x + 4 = 0  calcular las raices\n",
        "ecu = 'x2 + 5x + 4 = 0'\n",
        "a = 1\n",
        "b = 5\n",
        "c = 4\n",
        "delta = b**2 - 4 * a * c\n",
        "delta_sqr = delta ** 0.5\n",
        "x1 = (-b - delta_sqr) / (2 * a)\n",
        "x2 = (-b + delta_sqr) / (2 * a)\n",
        "print(f'Las raices de la ecuacion {ecu} son: x1 = {x1} y x2 = {x2}')"
      ],
      "metadata": {
        "colab": {
          "base_uri": "https://localhost:8080/"
        },
        "id": "SXRC3jiRuQRF",
        "outputId": "b1858222-2a35-403f-dad9-6663907a0adc"
      },
      "execution_count": 34,
      "outputs": [
        {
          "output_type": "stream",
          "name": "stdout",
          "text": [
            "Las raices de la ecuacion x2 + 5x + 4 = 0 son: x1 = -4.0 y x2 = -1.0\n"
          ]
        }
      ]
    },
    {
      "cell_type": "code",
      "source": [
        "# media geometrica de 4, 3, 4.5, 5\n",
        "import statistics\n",
        "a = [4, 3, 4.5, 5]\n",
        "m_geo1 = statistics.geometric_mean(a)\n",
        "x1, x2, x3, x4 = 4, 3, 4.5, 5\n",
        "m_geo2 = (x1 *x2 * x3 * x4)**(1/4)\n",
        "print(f'la media geometrica de {a} es : {m_geo1:.2f} con metodo y {m_geo2:.4f} con calculo')"
      ],
      "metadata": {
        "colab": {
          "base_uri": "https://localhost:8080/"
        },
        "id": "HeOFPuVwvf4P",
        "outputId": "920b62fb-e0b2-4ca0-f55f-f893b2599839"
      },
      "execution_count": 40,
      "outputs": [
        {
          "output_type": "stream",
          "name": "stdout",
          "text": [
            "la media geometrica de [4, 3, 4.5, 5] es : 4.05 con metodo y 4.0536 con calculo\n"
          ]
        }
      ]
    },
    {
      "cell_type": "code",
      "source": [
        "# calcular la suma de 1, 1/2, 1/4, 1/8 ...\n",
        "a = '1, 1/2, 1/4, 1/8 ...'\n",
        "a1 = 1\n",
        "a2 = 1/2\n",
        "q = a2/a1\n",
        "s = a1/(1-q)\n",
        "print(f'La suma de la secuencia {a} es: {s}')"
      ],
      "metadata": {
        "colab": {
          "base_uri": "https://localhost:8080/"
        },
        "id": "kFih0eruxOKx",
        "outputId": "c1d74c03-fcc8-450e-93e0-7a2cba952123"
      },
      "execution_count": 41,
      "outputs": [
        {
          "output_type": "stream",
          "name": "stdout",
          "text": [
            "La suma de la secuencia 1, 1/2, 1/4, 1/8 ... es: 2.0\n"
          ]
        }
      ]
    },
    {
      "cell_type": "code",
      "source": [
        "# calculat la dst de 10, 11 ,9\n",
        "dato = '10, 11 ,9'\n",
        "a, b, c = 10, 11, 9\n",
        "media = (a + b +c)/3\n",
        "var = ((a - media)**2 + (b - media)**2 + (c - media)**2)/3\n",
        "ets = var**(1/2)\n",
        "print(f'La desviacion standar de {dato} es : {ets:.3f}')"
      ],
      "metadata": {
        "colab": {
          "base_uri": "https://localhost:8080/"
        },
        "id": "Cvu9JkkUzpW3",
        "outputId": "9284c4a4-acfc-4e38-e888-d07581487714"
      },
      "execution_count": 44,
      "outputs": [
        {
          "output_type": "stream",
          "name": "stdout",
          "text": [
            "La desviacion standar de 10, 11 ,9 es : 0.816\n"
          ]
        }
      ]
    },
    {
      "cell_type": "code",
      "source": [
        "# ver la extension de filename =  'ver.jpg'\n",
        "a = 'ver.jpg'\n",
        "print(f'La extension de {a} es: {a[-3:]}')\n",
        "print(f'La extension de {a} es: {a[4:]}')"
      ],
      "metadata": {
        "colab": {
          "base_uri": "https://localhost:8080/"
        },
        "id": "ZodAo90e0OrY",
        "outputId": "56a00d68-1a1f-41c0-a02c-7a1cb0fc9459"
      },
      "execution_count": 51,
      "outputs": [
        {
          "output_type": "stream",
          "name": "stdout",
          "text": [
            "La extension de ver.jpg es: jpg\n",
            "La extension de ver.jpg es: jpg\n"
          ]
        }
      ]
    },
    {
      "cell_type": "code",
      "source": [
        "# extraer ... de string = 'PKV-89415-PLN\n",
        "string = 'PKV-89415-PLN'\n",
        "str01 = string[:3]\n",
        "str02 = string[-3:]\n",
        "print(f'Los caracteres a extraer de {string} son {str01}{str02}')"
      ],
      "metadata": {
        "colab": {
          "base_uri": "https://localhost:8080/"
        },
        "id": "SARAcPV41zl-",
        "outputId": "4ebe5b49-85b8-4b0d-ed70-48ad65580b38"
      },
      "execution_count": 54,
      "outputs": [
        {
          "output_type": "stream",
          "name": "stdout",
          "text": [
            "Los caracteres a extraer de PKV-89415-PLN son PKVPLN\n"
          ]
        }
      ]
    },
    {
      "cell_type": "code",
      "source": [],
      "metadata": {
        "id": "KgBmeCnV2uIy"
      },
      "execution_count": null,
      "outputs": []
    }
  ]
}