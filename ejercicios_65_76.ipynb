{
  "nbformat": 4,
  "nbformat_minor": 0,
  "metadata": {
    "colab": {
      "provenance": [],
      "authorship_tag": "ABX9TyMQboeLAwrAbQegQPuDxkWM",
      "include_colab_link": true
    },
    "kernelspec": {
      "name": "python3",
      "display_name": "Python 3"
    },
    "language_info": {
      "name": "python"
    }
  },
  "cells": [
    {
      "cell_type": "markdown",
      "metadata": {
        "id": "view-in-github",
        "colab_type": "text"
      },
      "source": [
        "<a href=\"https://colab.research.google.com/github/pedro1153/350_ejercicios/blob/main/ejercicios_65_76.ipynb\" target=\"_parent\"><img src=\"https://colab.research.google.com/assets/colab-badge.svg\" alt=\"Open In Colab\"/></a>"
      ]
    },
    {
      "cell_type": "code",
      "execution_count": null,
      "metadata": {
        "colab": {
          "base_uri": "https://localhost:8080/"
        },
        "id": "6godYJDfCUKX",
        "outputId": "29dc3a80-c95b-4028-e22b-c65299740a00"
      },
      "outputs": [
        {
          "output_type": "stream",
          "name": "stdout",
          "text": [
            "{'USA': 'Washington', 'Germany': 'Berlin', 'Austria': 'Vienna'}\n"
          ]
        }
      ],
      "source": [
        "capitals = {\n",
        "    'USA': 'Washington',\n",
        "    'Germany': 'Berlin',\n",
        "    'Austria': 'Vienna'\n",
        "    }\n",
        "print(capitals)\n"
      ]
    },
    {
      "cell_type": "code",
      "source": [
        "capitals = {\n",
        "    'USA': 'Washington',\n",
        "    'Germany': 'Berlin',\n",
        "    'Austria': 'Vienna'\n",
        "}\n",
        "claves = list(capitals.keys())\n",
        "print(f'dict_keys({claves})')\n",
        "\n",
        "print(capitals.keys())"
      ],
      "metadata": {
        "colab": {
          "base_uri": "https://localhost:8080/"
        },
        "id": "mu-Mr977CaZC",
        "outputId": "931946fb-8f3c-40b8-bab8-7a4c846fe0b9"
      },
      "execution_count": null,
      "outputs": [
        {
          "output_type": "stream",
          "name": "stdout",
          "text": [
            "dict_keys(['USA', 'Germany', 'Austria'])\n",
            "dict_keys(['USA', 'Germany', 'Austria'])\n"
          ]
        }
      ]
    },
    {
      "cell_type": "code",
      "source": [
        "capitals = {\n",
        "    'USA': 'Washington',\n",
        "    'Germany': 'Berlin',\n",
        "    'Austria': 'Vienna'\n",
        "}\n",
        "print(capitals.values())"
      ],
      "metadata": {
        "id": "ksClujyzDXlU",
        "outputId": "1cc7da91-85ef-4a8a-8081-c6d70399750e",
        "colab": {
          "base_uri": "https://localhost:8080/"
        }
      },
      "execution_count": null,
      "outputs": [
        {
          "output_type": "stream",
          "name": "stdout",
          "text": [
            "dict_values(['Washington', 'Berlin', 'Vienna'])\n"
          ]
        }
      ]
    },
    {
      "cell_type": "code",
      "source": [
        "capitals = {\n",
        "    'USA': 'Washington',\n",
        "    'Germany': 'Berlin',\n",
        "    'Austria': 'Vienna'\n",
        "}\n",
        "result = capitals.items()\n",
        "print(result)\n",
        "\n",
        "print(capitals.items())"
      ],
      "metadata": {
        "id": "SzwOqwfLNcvB",
        "outputId": "df3ce2f3-4b03-4d31-9237-6e0ec4869f7b",
        "colab": {
          "base_uri": "https://localhost:8080/"
        }
      },
      "execution_count": null,
      "outputs": [
        {
          "output_type": "stream",
          "name": "stdout",
          "text": [
            "dict_items([('USA', 'Washington'), ('Germany', 'Berlin'), ('Austria', 'Vienna')])\n",
            "dict_items([('USA', 'Washington'), ('Germany', 'Berlin'), ('Austria', 'Vienna')])\n"
          ]
        }
      ]
    },
    {
      "cell_type": "code",
      "source": [
        "capitals = {\n",
        "    'USA': 'Washington',\n",
        "    'Germany': 'Berlin',\n",
        "    'Austria': 'Vienna'\n",
        "}\n",
        "print(capitals.get('Austria'))"
      ],
      "metadata": {
        "id": "xpXXQ1jEOh7Y",
        "outputId": "1cf4a533-d968-4580-de34-7d4ef448ea77",
        "colab": {
          "base_uri": "https://localhost:8080/"
        }
      },
      "execution_count": null,
      "outputs": [
        {
          "output_type": "stream",
          "name": "stdout",
          "text": [
            "Vienna\n"
          ]
        }
      ]
    },
    {
      "cell_type": "code",
      "source": [
        "stocks = {\n",
        "    'MSFT.US': {'Microsoft Corp': 184},\n",
        "    'AAPL.US': {'Apple Inc': 310},\n",
        "    'MMM.US': {'3M Co': 148}\n",
        "}\n",
        "print(stocks['AAPL.US'])"
      ],
      "metadata": {
        "id": "ZcAsXjr_Vl2B",
        "outputId": "530fa167-851c-4a30-b52c-17e2bcf3cb4b",
        "colab": {
          "base_uri": "https://localhost:8080/"
        }
      },
      "execution_count": null,
      "outputs": [
        {
          "output_type": "stream",
          "name": "stdout",
          "text": [
            "{'Apple Inc': 310}\n"
          ]
        }
      ]
    },
    {
      "cell_type": "code",
      "source": [
        "stocks = {\n",
        "    'MSFT.US': {'Microsoft Corp': 184},\n",
        "    'AAPL.US': {'Apple Inc': 310},\n",
        "    'MMM.US': {'3M Co': 148}\n",
        "}\n",
        "print(stocks['MSFT.US']['Microsoft Corp'])"
      ],
      "metadata": {
        "id": "2Ynh4AZrW4AI",
        "outputId": "51564b8b-a6aa-40c8-e30d-e1bd1fe11dc3",
        "colab": {
          "base_uri": "https://localhost:8080/"
        }
      },
      "execution_count": null,
      "outputs": [
        {
          "output_type": "stream",
          "name": "stdout",
          "text": [
            "184\n"
          ]
        }
      ]
    },
    {
      "cell_type": "code",
      "source": [
        "stocks = {\n",
        "    'MSFT.US': {'Microsoft Corp': 184},\n",
        "    'AAPL.US': {'Apple Inc': 310},\n",
        "    'MMM.US': {'3M Co': 148}\n",
        "}\n",
        "stocks['MSFT.US'] = {'Microsoft Corp': 190}\n",
        "print(stocks['MSFT.US'])"
      ],
      "metadata": {
        "id": "YXEY5q00UbXn",
        "outputId": "81193b29-9489-4270-cc9a-cf9f6de72456",
        "colab": {
          "base_uri": "https://localhost:8080/"
        }
      },
      "execution_count": null,
      "outputs": [
        {
          "output_type": "stream",
          "name": "stdout",
          "text": [
            "{'Microsoft Corp': 190}\n"
          ]
        }
      ]
    },
    {
      "cell_type": "code",
      "source": [
        "stocks = {\n",
        "    'MSFT.US': {'Microsoft Corp': 184},\n",
        "    'AAPL.US': {'Apple Inc': 310},\n",
        "    'MMM.US': {'3M Co': 148}\n",
        "}\n",
        "stocks['V.US'] = {'Visa Inc': 185}\n",
        "print(stocks.values())"
      ],
      "metadata": {
        "colab": {
          "base_uri": "https://localhost:8080/"
        },
        "id": "u57f6mMCXCLa",
        "outputId": "40767042-b481-4379-f49b-d64fd57bc6eb"
      },
      "execution_count": null,
      "outputs": [
        {
          "output_type": "stream",
          "name": "stdout",
          "text": [
            "dict_values([{'Microsoft Corp': 184}, {'Apple Inc': 310}, {'3M Co': 148}, {'Visa Inc': 185}])\n"
          ]
        }
      ]
    },
    {
      "cell_type": "code",
      "source": [
        "tickers = [\n",
        "    'AAPL.US', 'AXP.US', 'BA.US', 'CAT.US',\n",
        "    'CSCO.US', 'CVX.US', 'DIS.US', 'DOW.US',\n",
        "    'GS.US', 'HD.US', 'IBM.US', 'INTC.US'\n",
        "]\n",
        "tuplas = [(indice,ticker)\n",
        "for indice, ticker in enumerate(tickers)]\n",
        "print(tuplas)\n",
        "\n",
        "print(list(enumerate(tickers)))"
      ],
      "metadata": {
        "id": "_V1FcYdTbq2t",
        "outputId": "76749f52-0e4f-4814-fd0b-8587f77df86e",
        "colab": {
          "base_uri": "https://localhost:8080/"
        }
      },
      "execution_count": null,
      "outputs": [
        {
          "output_type": "stream",
          "name": "stdout",
          "text": [
            "[(0, 'AAPL.US'), (1, 'AXP.US'), (2, 'BA.US'), (3, 'CAT.US'), (4, 'CSCO.US'), (5, 'CVX.US'), (6, 'DIS.US'), (7, 'DOW.US'), (8, 'GS.US'), (9, 'HD.US'), (10, 'IBM.US'), (11, 'INTC.US')]\n",
            "[(0, 'AAPL.US'), (1, 'AXP.US'), (2, 'BA.US'), (3, 'CAT.US'), (4, 'CSCO.US'), (5, 'CVX.US'), (6, 'DIS.US'), (7, 'DOW.US'), (8, 'GS.US'), (9, 'HD.US'), (10, 'IBM.US'), (11, 'INTC.US')]\n"
          ]
        }
      ]
    },
    {
      "cell_type": "code",
      "source": [
        "tickers = [\n",
        "    'AAPL.US', 'AXP.US', 'BA.US', 'CAT.US',\n",
        "    'CSCO.US', 'CVX.US', 'DIS.US', 'DOW.US',\n",
        "    'GS.US', 'HD.US', 'IBM.US', 'INTC.US'\n",
        "]\n",
        "print(dict(enumerate(tickers)))"
      ],
      "metadata": {
        "id": "pnHqqZpweK2R",
        "outputId": "6153499b-672b-4267-d327-e9cfa6d7e223",
        "colab": {
          "base_uri": "https://localhost:8080/"
        }
      },
      "execution_count": null,
      "outputs": [
        {
          "output_type": "stream",
          "name": "stdout",
          "text": [
            "{0: 'AAPL.US', 1: 'AXP.US', 2: 'BA.US', 3: 'CAT.US', 4: 'CSCO.US', 5: 'CVX.US', 6: 'DIS.US', 7: 'DOW.US', 8: 'GS.US', 9: 'HD.US', 10: 'IBM.US', 11: 'INTC.US'}\n"
          ]
        }
      ]
    },
    {
      "cell_type": "code",
      "source": [
        "project_ids = {\n",
        "    '01': 'open',\n",
        "    '03': 'in progress',\n",
        "    '05': 'in progress',\n",
        "    '04': 'completed'\n",
        "}\n",
        "p_il = list(project_ids.values())\n",
        "p_ip = project_ids.pop('03')\n",
        "p_is = sorted(project_ids)\n",
        "sorted_proj = {}\n",
        "sorted_ids = dict(sorted(project_ids.items(), key=lambda item:item[1]))\n",
        "print(list(sorted_ids.values()))\n",
        "\n",
        "result = list(set(project_ids.values()))\n",
        "result.sort()\n",
        "print(result)"
      ],
      "metadata": {
        "id": "i3LOI3Y8fbd3",
        "outputId": "c31ad88a-97fe-4143-d65e-e868647e16d2",
        "colab": {
          "base_uri": "https://localhost:8080/"
        }
      },
      "execution_count": 36,
      "outputs": [
        {
          "output_type": "stream",
          "name": "stdout",
          "text": [
            "['completed', 'in progress', 'open']\n",
            "['completed', 'in progress', 'open']\n"
          ]
        }
      ]
    },
    {
      "cell_type": "code",
      "source": [],
      "metadata": {
        "id": "af2zsn0Fbi0Y"
      },
      "execution_count": null,
      "outputs": []
    }
  ]
}