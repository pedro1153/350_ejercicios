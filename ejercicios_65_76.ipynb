{
  "nbformat": 4,
  "nbformat_minor": 0,
  "metadata": {
    "colab": {
      "provenance": [],
      "authorship_tag": "ABX9TyOHOOJG+tJCiIhYe5FP9Yrq",
      "include_colab_link": true
    },
    "kernelspec": {
      "name": "python3",
      "display_name": "Python 3"
    },
    "language_info": {
      "name": "python"
    }
  },
  "cells": [
    {
      "cell_type": "markdown",
      "metadata": {
        "id": "view-in-github",
        "colab_type": "text"
      },
      "source": [
        "<a href=\"https://colab.research.google.com/github/pedro1153/350_ejercicios/blob/main/ejercicios_65_76.ipynb\" target=\"_parent\"><img src=\"https://colab.research.google.com/assets/colab-badge.svg\" alt=\"Open In Colab\"/></a>"
      ]
    },
    {
      "cell_type": "code",
      "execution_count": null,
      "metadata": {
        "colab": {
          "base_uri": "https://localhost:8080/"
        },
        "id": "6godYJDfCUKX",
        "outputId": "29dc3a80-c95b-4028-e22b-c65299740a00"
      },
      "outputs": [
        {
          "output_type": "stream",
          "name": "stdout",
          "text": [
            "{'USA': 'Washington', 'Germany': 'Berlin', 'Austria': 'Vienna'}\n"
          ]
        }
      ],
      "source": [
        "capitals = {\n",
        "    'USA': 'Washington',\n",
        "    'Germany': 'Berlin',\n",
        "    'Austria': 'Vienna'\n",
        "    }\n",
        "print(capitals)\n"
      ]
    },
    {
      "cell_type": "code",
      "source": [
        "capitals = {\n",
        "    'USA': 'Washington',\n",
        "    'Germany': 'Berlin',\n",
        "    'Austria': 'Vienna'\n",
        "}\n",
        "claves = list(capitals.keys())\n",
        "print(f'dict_keys({claves})')\n",
        "\n",
        "print(capitals.keys())"
      ],
      "metadata": {
        "colab": {
          "base_uri": "https://localhost:8080/"
        },
        "id": "mu-Mr977CaZC",
        "outputId": "931946fb-8f3c-40b8-bab8-7a4c846fe0b9"
      },
      "execution_count": 1,
      "outputs": [
        {
          "output_type": "stream",
          "name": "stdout",
          "text": [
            "dict_keys(['USA', 'Germany', 'Austria'])\n",
            "dict_keys(['USA', 'Germany', 'Austria'])\n"
          ]
        }
      ]
    },
    {
      "cell_type": "code",
      "source": [
        "capitals = {\n",
        "    'USA': 'Washington',\n",
        "    'Germany': 'Berlin',\n",
        "    'Austria': 'Vienna'\n",
        "}\n",
        "print(capitals.values())"
      ],
      "metadata": {
        "id": "ksClujyzDXlU",
        "outputId": "1cc7da91-85ef-4a8a-8081-c6d70399750e",
        "colab": {
          "base_uri": "https://localhost:8080/"
        }
      },
      "execution_count": 2,
      "outputs": [
        {
          "output_type": "stream",
          "name": "stdout",
          "text": [
            "dict_values(['Washington', 'Berlin', 'Vienna'])\n"
          ]
        }
      ]
    },
    {
      "cell_type": "code",
      "source": [
        "capitals = {\n",
        "    'USA': 'Washington',\n",
        "    'Germany': 'Berlin',\n",
        "    'Austria': 'Vienna'\n",
        "}\n",
        "result = capitals.items()\n",
        "print(result)\n",
        "\n",
        "print(capitals.items())"
      ],
      "metadata": {
        "id": "SzwOqwfLNcvB",
        "outputId": "df3ce2f3-4b03-4d31-9237-6e0ec4869f7b",
        "colab": {
          "base_uri": "https://localhost:8080/"
        }
      },
      "execution_count": 23,
      "outputs": [
        {
          "output_type": "stream",
          "name": "stdout",
          "text": [
            "dict_items([('USA', 'Washington'), ('Germany', 'Berlin'), ('Austria', 'Vienna')])\n",
            "dict_items([('USA', 'Washington'), ('Germany', 'Berlin'), ('Austria', 'Vienna')])\n"
          ]
        }
      ]
    },
    {
      "cell_type": "code",
      "source": [
        "capitals = {\n",
        "    'USA': 'Washington',\n",
        "    'Germany': 'Berlin',\n",
        "    'Austria': 'Vienna'\n",
        "}\n",
        "print(capitals.get('Austria'))"
      ],
      "metadata": {
        "id": "xpXXQ1jEOh7Y",
        "outputId": "1cf4a533-d968-4580-de34-7d4ef448ea77",
        "colab": {
          "base_uri": "https://localhost:8080/"
        }
      },
      "execution_count": 28,
      "outputs": [
        {
          "output_type": "stream",
          "name": "stdout",
          "text": [
            "Vienna\n"
          ]
        }
      ]
    },
    {
      "cell_type": "code",
      "source": [
        "stocks = {\n",
        "    'MSFT.US': {'Microsoft Corp': 184},\n",
        "    'AAPL.US': {'Apple Inc': 310},\n",
        "    'MMM.US': {'3M Co': 148}\n",
        "}\n",
        "print(stocks['AAPL.US'])"
      ],
      "metadata": {
        "id": "ZcAsXjr_Vl2B",
        "outputId": "530fa167-851c-4a30-b52c-17e2bcf3cb4b",
        "colab": {
          "base_uri": "https://localhost:8080/"
        }
      },
      "execution_count": 38,
      "outputs": [
        {
          "output_type": "stream",
          "name": "stdout",
          "text": [
            "{'Apple Inc': 310}\n"
          ]
        }
      ]
    },
    {
      "cell_type": "code",
      "source": [],
      "metadata": {
        "id": "2Ynh4AZrW4AI"
      },
      "execution_count": null,
      "outputs": []
    }
  ]
}