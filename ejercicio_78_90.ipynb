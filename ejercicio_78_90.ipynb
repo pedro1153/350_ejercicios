{
  "nbformat": 4,
  "nbformat_minor": 0,
  "metadata": {
    "colab": {
      "provenance": [],
      "authorship_tag": "ABX9TyNIGx8NEI1IFuzuGRquNy8T",
      "include_colab_link": true
    },
    "kernelspec": {
      "name": "python3",
      "display_name": "Python 3"
    },
    "language_info": {
      "name": "python"
    }
  },
  "cells": [
    {
      "cell_type": "markdown",
      "metadata": {
        "id": "view-in-github",
        "colab_type": "text"
      },
      "source": [
        "<a href=\"https://colab.research.google.com/github/pedro1153/350_ejercicios/blob/main/ejercicio_78_90.ipynb\" target=\"_parent\"><img src=\"https://colab.research.google.com/assets/colab-badge.svg\" alt=\"Open In Colab\"/></a>"
      ]
    },
    {
      "cell_type": "code",
      "execution_count": 3,
      "metadata": {
        "colab": {
          "base_uri": "https://localhost:8080/"
        },
        "id": "nY3gKdnuVkhk",
        "outputId": "13f6d3ec-b26b-41ad-f1a9-38d812142340"
      },
      "outputs": [
        {
          "output_type": "stream",
          "name": "stdout",
          "text": [
            "YES\n",
            "YES\n"
          ]
        }
      ],
      "source": [
        "filename = '01012020_sales.xlsx'\n",
        "if filename[-4:] == 'xlsx':\n",
        "  print('YES')\n",
        "else:\n",
        "  print('NO')\n",
        "\n",
        "if filename.endswith('xlsx'):\n",
        "    print('YES')\n",
        "else:\n",
        "    print('NO')"
      ]
    },
    {
      "cell_type": "code",
      "source": [
        "code = 'DSVNDOICSN'\n",
        "if code.isupper():\n",
        "  print('YES')"
      ],
      "metadata": {
        "colab": {
          "base_uri": "https://localhost:8080/"
        },
        "id": "xsbBVO-8WfOv",
        "outputId": "c05d01e4-d90b-4cd6-c7f0-08a3a27f8371"
      },
      "execution_count": 4,
      "outputs": [
        {
          "output_type": "stream",
          "name": "stdout",
          "text": [
            "YES\n"
          ]
        }
      ]
    },
    {
      "cell_type": "code",
      "source": [
        "number = 1.0\n",
        "if isinstance(number, int):\n",
        "  print('YES')\n",
        "else:\n",
        "  print('NO')"
      ],
      "metadata": {
        "colab": {
          "base_uri": "https://localhost:8080/"
        },
        "id": "joqI9b8hX8xZ",
        "outputId": "60bab715-d647-453f-9ce6-a195198d37ab"
      },
      "execution_count": 8,
      "outputs": [
        {
          "output_type": "stream",
          "name": "stdout",
          "text": [
            "NO\n"
          ]
        }
      ]
    },
    {
      "cell_type": "code",
      "source": [
        "password = 'cskdnjcasa#!'\n",
        "if len(password) >= 11:\n",
        "  print('Password correct')\n",
        "else:\n",
        "  print('Password too short')"
      ],
      "metadata": {
        "colab": {
          "base_uri": "https://localhost:8080/"
        },
        "id": "A8K813dxY14a",
        "outputId": "7e5ce887-0c91-49d8-e1f3-d29bba7b7e38"
      },
      "execution_count": 14,
      "outputs": [
        {
          "output_type": "stream",
          "name": "stdout",
          "text": [
            "Password correct\n"
          ]
        }
      ]
    },
    {
      "cell_type": "code",
      "source": [
        "password = 'cskdnjcasa#!'\n",
        "# print('!' in password)\n",
        "if len(password) >= 11 & ('!' in password):\n",
        "  print('Password correct')\n",
        "else:\n",
        "  print('Password too short')"
      ],
      "metadata": {
        "colab": {
          "base_uri": "https://localhost:8080/"
        },
        "id": "v2Ax0KQ1Zfii",
        "outputId": "df6c61c5-3a45-43ae-cc56-60cee671019c"
      },
      "execution_count": 20,
      "outputs": [
        {
          "output_type": "stream",
          "name": "stdout",
          "text": [
            "Password correct\n"
          ]
        }
      ]
    },
    {
      "cell_type": "code",
      "source": [
        "project_ids = ['02134', '24253']\n",
        "project_id = '02135'\n",
        "if project_id in project_ids:\n",
        "  print('project_id esta en project_ids')\n",
        "else:\n",
        "  project_ids.append(project_id)\n",
        "  print(project_ids)\n",
        "\n",
        "if not project_id in project_ids:\n",
        "    project_ids.append(project_id)\n",
        "\n",
        "print(project_ids)\n"
      ],
      "metadata": {
        "colab": {
          "base_uri": "https://localhost:8080/"
        },
        "id": "vdISwK5Zb9TP",
        "outputId": "ecaa3471-913c-4625-cdf5-ddc58ba14b62"
      },
      "execution_count": 29,
      "outputs": [
        {
          "output_type": "stream",
          "name": "stdout",
          "text": [
            "['02134', '24253', '02135']\n",
            "['02134', '24253', '02135']\n"
          ]
        }
      ]
    },
    {
      "cell_type": "code",
      "source": [],
      "metadata": {
        "id": "vlIc70xBdanv"
      },
      "execution_count": null,
      "outputs": []
    }
  ]
}