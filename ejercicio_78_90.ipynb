{
  "nbformat": 4,
  "nbformat_minor": 0,
  "metadata": {
    "colab": {
      "provenance": [],
      "authorship_tag": "ABX9TyNb3BDYWAY8C0Poz0fwXRf/",
      "include_colab_link": true
    },
    "kernelspec": {
      "name": "python3",
      "display_name": "Python 3"
    },
    "language_info": {
      "name": "python"
    }
  },
  "cells": [
    {
      "cell_type": "markdown",
      "metadata": {
        "id": "view-in-github",
        "colab_type": "text"
      },
      "source": [
        "<a href=\"https://colab.research.google.com/github/pedro1153/350_ejercicios/blob/main/ejercicio_78_90.ipynb\" target=\"_parent\"><img src=\"https://colab.research.google.com/assets/colab-badge.svg\" alt=\"Open In Colab\"/></a>"
      ]
    },
    {
      "cell_type": "code",
      "execution_count": null,
      "metadata": {
        "colab": {
          "base_uri": "https://localhost:8080/"
        },
        "id": "nY3gKdnuVkhk",
        "outputId": "13f6d3ec-b26b-41ad-f1a9-38d812142340"
      },
      "outputs": [
        {
          "output_type": "stream",
          "name": "stdout",
          "text": [
            "YES\n",
            "YES\n"
          ]
        }
      ],
      "source": [
        "filename = '01012020_sales.xlsx'\n",
        "if filename[-4:] == 'xlsx':\n",
        "  print('YES')\n",
        "else:\n",
        "  print('NO')\n",
        "\n",
        "if filename.endswith('xlsx'):\n",
        "    print('YES')\n",
        "else:\n",
        "    print('NO')"
      ]
    },
    {
      "cell_type": "code",
      "source": [
        "code = 'DSVNDOICSN'\n",
        "if code.isupper():\n",
        "  print('YES')"
      ],
      "metadata": {
        "colab": {
          "base_uri": "https://localhost:8080/"
        },
        "id": "xsbBVO-8WfOv",
        "outputId": "c05d01e4-d90b-4cd6-c7f0-08a3a27f8371"
      },
      "execution_count": null,
      "outputs": [
        {
          "output_type": "stream",
          "name": "stdout",
          "text": [
            "YES\n"
          ]
        }
      ]
    },
    {
      "cell_type": "code",
      "source": [
        "number = 1.0\n",
        "if isinstance(number, int):\n",
        "  print('YES')\n",
        "else:\n",
        "  print('NO')"
      ],
      "metadata": {
        "colab": {
          "base_uri": "https://localhost:8080/"
        },
        "id": "joqI9b8hX8xZ",
        "outputId": "60bab715-d647-453f-9ce6-a195198d37ab"
      },
      "execution_count": null,
      "outputs": [
        {
          "output_type": "stream",
          "name": "stdout",
          "text": [
            "NO\n"
          ]
        }
      ]
    },
    {
      "cell_type": "code",
      "source": [
        "password = 'cskdnjcasa#!'\n",
        "if len(password) >= 11:\n",
        "  print('Password correct')\n",
        "else:\n",
        "  print('Password too short')"
      ],
      "metadata": {
        "colab": {
          "base_uri": "https://localhost:8080/"
        },
        "id": "A8K813dxY14a",
        "outputId": "7e5ce887-0c91-49d8-e1f3-d29bba7b7e38"
      },
      "execution_count": null,
      "outputs": [
        {
          "output_type": "stream",
          "name": "stdout",
          "text": [
            "Password correct\n"
          ]
        }
      ]
    },
    {
      "cell_type": "code",
      "source": [
        "password = 'cskdnjcasa#!'\n",
        "# print('!' in password)\n",
        "if len(password) >= 11 & ('!' in password):\n",
        "  print('Password correct')\n",
        "else:\n",
        "  print('Password too short')"
      ],
      "metadata": {
        "colab": {
          "base_uri": "https://localhost:8080/"
        },
        "id": "v2Ax0KQ1Zfii",
        "outputId": "df6c61c5-3a45-43ae-cc56-60cee671019c"
      },
      "execution_count": null,
      "outputs": [
        {
          "output_type": "stream",
          "name": "stdout",
          "text": [
            "Password correct\n"
          ]
        }
      ]
    },
    {
      "cell_type": "code",
      "source": [
        "project_ids = ['02134', '24253']\n",
        "project_id = '02135'\n",
        "if project_id in project_ids:\n",
        "  print('project_id esta en project_ids')\n",
        "else:\n",
        "  project_ids.append(project_id)\n",
        "  print(project_ids)\n",
        "\n",
        "if not project_id in project_ids:\n",
        "    project_ids.append(project_id)\n",
        "\n",
        "print(project_ids)"
      ],
      "metadata": {
        "colab": {
          "base_uri": "https://localhost:8080/"
        },
        "id": "vdISwK5Zb9TP",
        "outputId": "060b6aad-a5a5-4055-e02c-cfc72a0b74a4"
      },
      "execution_count": null,
      "outputs": [
        {
          "output_type": "stream",
          "name": "stdout",
          "text": [
            "['02134', '24253', '02135']\n",
            "['02134', '24253', '02135']\n"
          ]
        }
      ]
    },
    {
      "cell_type": "code",
      "source": [
        "project_ids = {\n",
        "    '01': 'open',\n",
        "    '02': 'new',\n",
        "    '03': 'in progress',\n",
        "    '04': 'completed'\n",
        "}\n",
        "clave = '02'\n",
        "if clave in project_ids:\n",
        "  project_ids.update({'02': 'open'})\n",
        "  print(project_ids)\n",
        "\n",
        "if project_ids['02'] == 'new':\n",
        "    project_ids['02'] = 'open'\n",
        "print(project_ids)"
      ],
      "metadata": {
        "colab": {
          "base_uri": "https://localhost:8080/"
        },
        "id": "vlIc70xBdanv",
        "outputId": "105c4967-051b-46c8-ae26-37096f356b64"
      },
      "execution_count": null,
      "outputs": [
        {
          "output_type": "stream",
          "name": "stdout",
          "text": [
            "{'01': 'open', '02': 'open', '03': 'in progress', '04': 'completed'}\n",
            "{'01': 'open', '02': 'open', '03': 'in progress', '04': 'completed'}\n"
          ]
        }
      ]
    },
    {
      "cell_type": "code",
      "source": [
        "item = '001'\n",
        "items = ['001', '000', '003', '005', '006']\n",
        "if item in items:\n",
        "  items.pop(0)\n",
        "print(items)\n",
        "\n",
        "if item in items:\n",
        "    items.remove(item)\n",
        "\n",
        "print(items)"
      ],
      "metadata": {
        "colab": {
          "base_uri": "https://localhost:8080/"
        },
        "id": "wWYMPoIufrYm",
        "outputId": "95c714b8-d469-40a6-ea77-c850e7c5a090"
      },
      "execution_count": null,
      "outputs": [
        {
          "output_type": "stream",
          "name": "stdout",
          "text": [
            "['000', '003', '005', '006']\n",
            "['000', '003', '005', '006']\n"
          ]
        }
      ]
    },
    {
      "cell_type": "code",
      "source": [
        "cadena = []\n",
        "for i in range(10, 100):\n",
        "  if i % 11 == 0:\n",
        "    cadena.append(str(i))\n",
        "print(','.join(cadena))"
      ],
      "metadata": {
        "colab": {
          "base_uri": "https://localhost:8080/"
        },
        "id": "BbD0r9O_izVd",
        "outputId": "c75b9255-6227-456a-dace-7975d4929633"
      },
      "execution_count": null,
      "outputs": [
        {
          "output_type": "stream",
          "name": "stdout",
          "text": [
            "11,22,33,44,55,66,77,88,99\n"
          ]
        }
      ]
    },
    {
      "cell_type": "code",
      "source": [
        "cadena = []\n",
        "for i in range(10, 100):\n",
        "  if i % 11 == 0:\n",
        "    if i % 3 != 0:\n",
        "      cadena.append(str(i))\n",
        "print(','.join(cadena))\n",
        "\n",
        "result = []\n",
        "for i in range(10, 100):\n",
        "    if i % 11 == 0 and i % 3 != 0:\n",
        "        result.append(str(i))\n",
        "print(','.join(result))"
      ],
      "metadata": {
        "colab": {
          "base_uri": "https://localhost:8080/"
        },
        "id": "SlK-f4GKkKy6",
        "outputId": "a95562da-48c1-4339-b2b5-3496f979cf76"
      },
      "execution_count": null,
      "outputs": [
        {
          "output_type": "stream",
          "name": "stdout",
          "text": [
            "11,22,44,55,77,88\n",
            "11,22,44,55,77,88\n"
          ]
        }
      ]
    },
    {
      "cell_type": "code",
      "source": [
        "cadena = []\n",
        "items = [1, 3, 4, 5, 6, 9, 10, 17, 23, 24]\n",
        "for i in items:\n",
        "  if i % 2 == 0:\n",
        "    cadena.append(i)\n",
        "print(cadena)"
      ],
      "metadata": {
        "colab": {
          "base_uri": "https://localhost:8080/"
        },
        "id": "_Qk1Ut7_mgo7",
        "outputId": "8d05405f-1dac-4654-de08-838694e949a9"
      },
      "execution_count": null,
      "outputs": [
        {
          "output_type": "stream",
          "name": "stdout",
          "text": [
            "[4, 6, 10, 24]\n"
          ]
        }
      ]
    },
    {
      "cell_type": "code",
      "source": [
        "items = [1, 5, 3, 2, 2, 4, 2, 4]\n",
        "lista = []\n",
        "for i in items:\n",
        "  if i not in lista:\n",
        "    lista.append(i)\n",
        "print(lista)"
      ],
      "metadata": {
        "colab": {
          "base_uri": "https://localhost:8080/"
        },
        "id": "TKfmZzHJoGle",
        "outputId": "976a32d5-31b9-4882-c754-b8ce35c2735d"
      },
      "execution_count": null,
      "outputs": [
        {
          "output_type": "stream",
          "name": "stdout",
          "text": [
            "[1, 5, 3, 2, 4]\n"
          ]
        }
      ]
    },
    {
      "cell_type": "code",
      "source": [
        "text = 'Python is a very popular programming language'\n",
        "text = text.lower()\n",
        "textl = text.split()\n",
        "textl.remove('popular')\n",
        "textl.remove('programming')\n",
        "textl.remove('language')\n",
        "print(textl)\n",
        "\n",
        "words = text.split(' ')\n",
        "result = []\n",
        "for idx, word in enumerate(words):\n",
        "    if idx < 4:\n",
        "        result.append(word.lower())\n",
        "print(result)\n"
      ],
      "metadata": {
        "colab": {
          "base_uri": "https://localhost:8080/"
        },
        "id": "eSA2EgskpnEw",
        "outputId": "6c128ef3-6d14-4eb7-dd93-26dca33a38bb"
      },
      "execution_count": 45,
      "outputs": [
        {
          "output_type": "stream",
          "name": "stdout",
          "text": [
            "['python', 'is', 'a', 'very']\n",
            "['python', 'is', 'a', 'very']\n"
          ]
        }
      ]
    },
    {
      "cell_type": "code",
      "source": [
        "probabilities = [0.21, 0.91, 0.34, 0.55, 0.76, 0.02]\n",
        "prob = []\n",
        "for i in probabilities:\n",
        "  if i > 0.5:\n",
        "    prob.append(i)\n",
        "print(prob)\n"
      ],
      "metadata": {
        "id": "3IEaEuO2qVtX",
        "outputId": "3f705e2f-4fe3-4202-f762-7ef7155acd28",
        "colab": {
          "base_uri": "https://localhost:8080/"
        }
      },
      "execution_count": 46,
      "outputs": [
        {
          "output_type": "stream",
          "name": "stdout",
          "text": [
            "[0.91, 0.55, 0.76]\n"
          ]
        }
      ]
    },
    {
      "cell_type": "code",
      "source": [
        "probabilities = [0.21, 0.91, 0.34, 0.55, 0.76, 0.02]\n",
        "proba = []\n",
        "for i in probabilities:\n",
        "  if i > 0.5:\n",
        "    i = 1\n",
        "  else:\n",
        "    i = 0\n",
        "  proba.append(i)\n",
        "print(proba)\n",
        "\n",
        "result = []\n",
        "for prob in probabilities:\n",
        "    if prob > 0.5:\n",
        "        result.append(1)\n",
        "    else:\n",
        "        result.append(0)\n",
        "print(result)"
      ],
      "metadata": {
        "id": "eac-WajBGucM",
        "outputId": "f9ba9cf1-4532-4e4e-f0b3-5ca445183df3",
        "colab": {
          "base_uri": "https://localhost:8080/"
        }
      },
      "execution_count": 49,
      "outputs": [
        {
          "output_type": "stream",
          "name": "stdout",
          "text": [
            "[0, 1, 0, 1, 1, 0]\n",
            "[0, 1, 0, 1, 1, 0]\n"
          ]
        }
      ]
    },
    {
      "cell_type": "code",
      "source": [
        "items = ['x', 'y', 'z', 'y', 'x', 'y', 'y', 'z', 'x']\n",
        "cuenta = []\n",
        "for i in items:\n",
        "  itx = items.count('x')\n",
        "  cuenta.append(itx)\n",
        "  ity = items.count('y')\n",
        "  cuenta.append(ity)\n",
        "  itz = items.count('z')\n",
        "  cuenta.append(itz)\n",
        "itemsd =  list(set(items))\n",
        "itemss = itemsd.sort()\n",
        "itemsdic = dict(zip(itemsd, cuenta))\n",
        "print(itemsdic)\n",
        "\n",
        "freq = {}\n",
        "for item in items:\n",
        "    if item not in freq.keys():\n",
        "        freq[item] = 1\n",
        "    else:\n",
        "        freq[item] += 1\n",
        "\n",
        "print(freq)"
      ],
      "metadata": {
        "id": "1dJ7202ZIR-0",
        "outputId": "7ef345b4-ad23-4d63-ab4b-fbd6815143a0",
        "colab": {
          "base_uri": "https://localhost:8080/"
        }
      },
      "execution_count": 11,
      "outputs": [
        {
          "output_type": "stream",
          "name": "stdout",
          "text": [
            "{'x': 3, 'y': 4, 'z': 2}\n",
            "{'x': 3, 'y': 4, 'z': 2}\n"
          ]
        }
      ]
    },
    {
      "cell_type": "code",
      "source": [],
      "metadata": {
        "id": "DsWUaqTpJAFb"
      },
      "execution_count": null,
      "outputs": []
    }
  ]
}